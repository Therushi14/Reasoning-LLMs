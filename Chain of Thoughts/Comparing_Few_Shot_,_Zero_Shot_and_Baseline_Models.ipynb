{
  "nbformat": 4,
  "nbformat_minor": 0,
  "metadata": {
    "colab": {
      "provenance": []
    },
    "kernelspec": {
      "name": "python3",
      "display_name": "Python 3"
    },
    "language_info": {
      "name": "python"
    }
  },
  "cells": [
    {
      "cell_type": "code",
      "execution_count": null,
      "metadata": {
        "id": "cX1ZR_Lim_po"
      },
      "outputs": [],
      "source": [
        "!pip install -q transformers accelerate"
      ]
    },
    {
      "cell_type": "code",
      "source": [
        "from transformers import AutoTokenizer , AutoModelForSeq2SeqLM , pipeline\n",
        "import torch\n",
        "\n",
        "model_id = \"microsoft/phi-2\"\n",
        "\n",
        "tokenizer = AutoTokenizer.from_pretrained(model_id)\n",
        "model = AutoModelForCausualLM.from_pretrained(model_id,\n",
        "                                              device_map = \"auto\",\n",
        "                                              torch_dtype = torch.float16 if torch.cuda.is_available() else torch.float32)\n",
        "pipe = pipeline(\"text-generation\",model = model,tokenizer=tokenizer,max_new_tokens=128,temperature = 0.3)\n",
        "\n"
      ],
      "metadata": {
        "id": "X1RwJg4mns98"
      },
      "execution_count": null,
      "outputs": []
    },
    {
      "cell_type": "code",
      "source": [
        "questions = [\n",
        "    \"If Alice is older than Bob, and Bob is older than Charlie, who is the youngest?\",\n",
        "    \"A train travels 60 km/h for 3 hours. How far does it go?\",\n",
        "    \"If a box contains 3 red balls and 5 blue balls, how many balls are there in total?\",\n",
        "    \"Tom has twice as many apples as Jerry. Jerry has 3 apples. How many apples does Tom have?\",\n",
        "    \"If John is in Paris and everyone in Paris speaks French, what language does John most likely speak?\"\n",
        "]\n"
      ],
      "metadata": {
        "id": "-sFj6e03ns6Z"
      },
      "execution_count": null,
      "outputs": []
    },
    {
      "cell_type": "markdown",
      "source": [
        "Define Prompt Template:"
      ],
      "metadata": {
        "id": "IxbVLOrBoqHz"
      }
    },
    {
      "cell_type": "code",
      "source": [
        "# Few-shot Chain of Thought Prompt\n",
        "few_shot_cot = \"\"\"Q: If there are 2 pens and each costs $3, how much in total?\n",
        "A: Each pen costs $3. There are 2 pens. So 2 × 3 = $6. The answer is 6.\n",
        "\n",
        "Q: Alice is older than Bob. Bob is older than Charlie. Who is the youngest?\n",
        "A: Alice > Bob > Charlie. So Charlie is the youngest.\"\"\"\n",
        "\n",
        "# Few-shot No-CoT Prompt\n",
        "few_shot_nocot = \"\"\"Q: If there are 2 pens and each costs $3, how much in total?\n",
        "A: 6\n",
        "\n",
        "Q: Alice is older than Bob. Bob is older than Charlie. Who is the youngest?\n",
        "A: Charlie\"\"\"\n"
      ],
      "metadata": {
        "id": "4QHUYsPkns4R"
      },
      "execution_count": null,
      "outputs": []
    },
    {
      "cell_type": "code",
      "source": [
        "import pandas as pd\n",
        "\n",
        "results = []\n",
        "\n",
        "for q in questions:\n",
        "\n",
        "  #Prompt 1: Few-Shot Chain of Thought\n",
        "  prompt_cot = few_shot_cot + f\"nQ: {q}:\"\n",
        "  output_cot = pipe(prompt_cot)[0][\"generated_text\"].split(\"A:\")[-1].strip()\n",
        "\n",
        "  #Prompt 2: Zero shot CoT\n",
        "  prompt_zcot = f\"Q: {q} Let's think step by step.\"\n",
        "  output_zcot = pipe(prompt_zcot)[0][\"generated_text\"].split(\"A:\")[-1].strip()\n",
        "\n",
        "  #Prompt 3: Few-Shot No-CoT\n",
        "  prompt_nocot = few_shot_nocot + f\"\\nQ: {q}\\nA:\"\n",
        "  output_nocot = pipe(prompt_nocot)[0][\"generated_text\"].split(\"A:\")[-1].strip()\n",
        "\n",
        "  results.append({\n",
        "      \"question\": q,\n",
        "      \"cot\": output_cot,\n",
        "      \"zcot\": output_zcot,\n",
        "      \"nocot\": output_nocot\n",
        "  })\n",
        "\n",
        "  df = pd.DataFrame(results)"
      ],
      "metadata": {
        "id": "g1Wru2Ehns1S"
      },
      "execution_count": null,
      "outputs": []
    },
    {
      "cell_type": "code",
      "source": [
        "from IPython.display import display\n",
        "pd.set_option('display.max_colwidth', None)\n",
        "display(df)\n"
      ],
      "metadata": {
        "id": "U91wXQlvnsyt"
      },
      "execution_count": null,
      "outputs": []
    },
    {
      "cell_type": "code",
      "source": [
        "ground_truth = [\n",
        "    \"Charlie\",     # youngest\n",
        "    \"180\",         # 60 × 3\n",
        "    \"8\",           # 3 red + 5 blue\n",
        "    \"6\",           # 3 × 2\n",
        "    \"French\"       # inference\n",
        "]\n",
        "\n",
        "import re\n",
        "\n",
        "def extract_final_answer(text):\n",
        "    # Try to extract the last number or capitalized word\n",
        "    text = text.replace(\",\", \"\")\n",
        "    matches = re.findall(r\"\\b([A-Z][a-z]+|\\d+(?:\\.\\d+)?)\\b\", text)\n",
        "    return matches[-1] if matches else text.strip()\n",
        "\n",
        "# Track correct counts\n",
        "correct_cot = correct_zscot = correct_nocot = 0\n",
        "\n",
        "for i, row in df.iterrows():\n",
        "    gt = ground_truth[i].strip().lower()\n",
        "\n",
        "    ans_cot = extract_final_answer(row[\"Few-shot CoT\"]).lower()\n",
        "    ans_zscot = extract_final_answer(row[\"Zero-shot CoT\"]).lower()\n",
        "    ans_nocot = extract_final_answer(row[\"Few-shot No-CoT\"]).lower()\n",
        "\n",
        "    if ans_cot == gt:\n",
        "        correct_cot += 1\n",
        "    if ans_zscot == gt:\n",
        "        correct_zscot += 1\n",
        "    if ans_nocot == gt:\n",
        "        correct_nocot += 1\n",
        "\n",
        "total = len(df)\n",
        "print(f\"\\n Evaluation on {total} questions:\\n\")\n",
        "print(f\"Few-shot CoT Accuracy       : {correct_cot}/{total} ({correct_cot/total:.0%})\")\n",
        "print(f\"Zero-shot CoT Accuracy      : {correct_zscot}/{total} ({correct_zscot/total:.0%})\")\n",
        "print(f\"Few-shot No-CoT (Baseline)  : {correct_nocot}/{total} ({correct_nocot/total:.0%})\")\n",
        "\n",
        "\n"
      ],
      "metadata": {
        "id": "ftEh0EdnnswG"
      },
      "execution_count": null,
      "outputs": []
    },
    {
      "cell_type": "markdown",
      "source": [
        "Adding more examples"
      ],
      "metadata": {
        "id": "9mMnI5-cqOPS"
      }
    },
    {
      "cell_type": "code",
      "source": [
        "few_shot_cot = \"\"\"Q: If there are 2 pens and each costs $3, how much in total?\n",
        "A: Each pen costs $3. There are 2 pens. So 2 × 3 = $6. The answer is 6.\n",
        "\n",
        "Q: Alice is older than Bob. Bob is older than Charlie. Who is the youngest?\n",
        "A: Alice > Bob > Charlie. So Charlie is the youngest.\n",
        "\n",
        "Q: A train travels 60 km/h for 3 hours. How far does it go?\n",
        "A: The train moves 60 km each hour. 60 × 3 = 180. The answer is 180.\n",
        "\n",
        "Q: A box has 4 red balls and 5 green balls. How many total balls are there?\n",
        "A: 4 red + 5 green = 9 balls. The answer is 9.\n",
        "\n",
        "Q: Sarah has 7 candies. She eats 2. How many are left?\n",
        "A: 7 − 2 = 5. The answer is 5.\n",
        "\n",
        "Q: A chair costs $15. You buy 2. How much do you spend?\n",
        "A: 2 × $15 = $30. The answer is 30.\n",
        "\n",
        "Q: Mike is taller than Tom. Tom is taller than Jim. Who is the shortest?\n",
        "A: Mike > Tom > Jim. So Jim is the shortest. The answer is Jim.\n",
        "\n",
        "Q: There are 3 rows of desks. Each row has 5 desks. How many desks total?\n",
        "A: 3 × 5 = 15. The answer is 15.\n",
        "\n",
        "Q: If a pie has 8 slices and you eat 3, how many are left?\n",
        "A: 8 − 3 = 5. The answer is 5.\n",
        "\n",
        "Q: John has 4 apples. His friend gives him 3 more. How many apples total?\n",
        "A: 4 + 3 = 7. The answer is 7.\"\"\"\n",
        "\n",
        "\n",
        "few_shot_nocot = \"\"\"Q: If there are 2 pens and each costs $3, how much in total?\n",
        "A: 6\n",
        "\n",
        "Q: Alice is older than Bob. Bob is older than Charlie. Who is the youngest?\n",
        "A: Charlie\n",
        "\n",
        "Q: A train travels 60 km/h for 3 hours. How far does it go?\n",
        "A: 180\n",
        "\n",
        "Q: A box has 4 red balls and 5 green balls. How many total balls are there?\n",
        "A: 9\n",
        "\n",
        "Q: Sarah has 7 candies. She eats 2. How many are left?\n",
        "A: 5\n",
        "\n",
        "Q: A chair costs $15. You buy 2. How much do you spend?\n",
        "A: 30\n",
        "\n",
        "Q: Mike is taller than Tom. Tom is taller than Jim. Who is the shortest?\n",
        "A: Jim\n",
        "\n",
        "Q: There are 3 rows of desks. Each row has 5 desks. How many desks total?\n",
        "A: 15\n",
        "\n",
        "Q: If a pie has 8 slices and you eat 3, how many are left?\n",
        "A: 5\n",
        "\n",
        "Q: John has 4 apples. His friend gives him 3 more. How many apples total?\n",
        "A: 7\"\"\"\n"
      ],
      "metadata": {
        "id": "798dczUHnstE"
      },
      "execution_count": null,
      "outputs": []
    },
    {
      "cell_type": "code",
      "source": [
        "import pandas as pd\n",
        "\n",
        "results = []\n",
        "\n",
        "for q in questions:\n",
        "    # Prompt 1: Few-shot Chain of Thought\n",
        "    prompt_cot = few_shot_cot + f\"\\nQ: {q}\\nA:\"\n",
        "    output_cot = pipe(prompt_cot)[0][\"generated_text\"].split(\"A:\")[-1].strip()\n",
        "\n",
        "    # Prompt 2: Zero-shot CoT\n",
        "    prompt_zscot = f\"Q: {q} Let's think step by step.\\nA:\"\n",
        "    output_zscot = pipe(prompt_zscot)[0][\"generated_text\"].split(\"A:\")[-1].strip()\n",
        "\n",
        "    # Prompt 3: Few-shot No-CoT\n",
        "    prompt_nocot = few_shot_nocot + f\"\\nQ: {q}\\nA:\"\n",
        "    output_nocot = pipe(prompt_nocot)[0][\"generated_text\"].split(\"A:\")[-1].strip()\n",
        "\n",
        "    results.append({\n",
        "        \"Question\": q,\n",
        "        \"Few-shot CoT\": output_cot,\n",
        "        \"Zero-shot CoT\": output_zscot,\n",
        "        \"Few-shot No-CoT\": output_nocot\n",
        "    })\n",
        "\n",
        "df = pd.DataFrame(results)\n"
      ],
      "metadata": {
        "id": "rO2wHA-1qUFT"
      },
      "execution_count": null,
      "outputs": []
    },
    {
      "cell_type": "code",
      "source": [
        "from IPython.display import display\n",
        "pd.set_option('display.max_colwidth', None)\n",
        "display(df)"
      ],
      "metadata": {
        "id": "2mhaen2MqUBy"
      },
      "execution_count": null,
      "outputs": []
    },
    {
      "cell_type": "code",
      "source": [
        "#  Install required libraries\n",
        "!pip install -q transformers accelerate\n",
        "\n",
        "#  Load OpenChat 3.5 Model\n",
        "from transformers import AutoTokenizer, AutoModelForCausalLM, pipeline\n",
        "import torch, re, pandas as pd\n",
        "\n",
        "model_id = \"openchat/openchat-3.5-1210\"\n",
        "\n",
        "tokenizer = AutoTokenizer.from_pretrained(model_id)\n",
        "model = AutoModelForCausalLM.from_pretrained(\n",
        "    model_id,\n",
        "    device_map=\"auto\",\n",
        "    torch_dtype=torch.float16 if torch.cuda.is_available() else torch.float32\n",
        ")\n",
        "\n",
        "pipe = pipeline(\"text-generation\", model=model, tokenizer=tokenizer, max_new_tokens=128, temperature=0.3)\n",
        "\n",
        "#  10 Mixed Logical & Symbolic Questions\n",
        "questions = [\n",
        "    \"If Alice is older than Bob, and Bob is older than Charlie, who is the youngest?\",\n",
        "    \"A train travels 60 km/h for 3 hours. How far does it go?\",\n",
        "    \"If a box contains 3 red balls and 5 blue balls, how many balls are there in total?\",\n",
        "    \"Tom has twice as many apples as Jerry. Jerry has 3 apples. How many apples does Tom have?\",\n",
        "    \"If John is in Paris and everyone in Paris speaks French, what language does John most likely speak?\",\n",
        "    \"If a car has 4 wheels, how many wheels do 6 cars have?\",\n",
        "    \"Sarah has 3 pencils. She buys 4 more. How many pencils does she have now?\",\n",
        "    \"Bob is taller than Sam. Sam is taller than Mike. Who is the shortest?\",\n",
        "    \"There are 5 rows of chairs. Each row has 6 chairs. How many chairs are there in total?\",\n",
        "    \"If a pizza is cut into 8 equal slices and 3 slices are eaten, how many slices are left?\"\n",
        "]\n",
        "\n",
        "#  Ground-Truth Answers\n",
        "ground_truth = [\"Charlie\", \"180\", \"8\", \"6\", \"French\", \"24\", \"7\", \"Mike\", \"30\", \"5\"]\n",
        "\n",
        "#  Few-Shot CoT Prompt (10 examples)\n",
        "few_shot_cot = \"\"\"Q: If there are 2 pens and each costs $3, how much in total?\n",
        "A: Each pen costs $3. There are 2 pens. So 2 × 3 = $6. The answer is 6.\n",
        "Q: Alice is older than Bob. Bob is older than Charlie. Who is the youngest?\n",
        "A: Alice > Bob > Charlie. So Charlie is the youngest.\n",
        "Q: A train travels 60 km/h for 3 hours. How far does it go?\n",
        "A: The train moves 60 km each hour. 60 × 3 = 180. The answer is 180.\n",
        "Q: A box has 4 red balls and 5 green balls. How many total balls are there?\n",
        "A: 4 red + 5 green = 9 balls. The answer is 9.\n",
        "Q: Sarah has 7 candies. She eats 2. How many are left?\n",
        "A: 7 − 2 = 5. The answer is 5.\n",
        "Q: A chair costs $15. You buy 2. How much do you spend?\n",
        "A: 2 × $15 = $30. The answer is 30.\n",
        "Q: Mike is taller than Tom. Tom is taller than Jim. Who is the shortest?\n",
        "A: Mike > Tom > Jim. So Jim is the shortest. The answer is Jim.\n",
        "Q: There are 3 rows of desks. Each row has 5 desks. How many desks total?\n",
        "A: 3 × 5 = 15. The answer is 15.\n",
        "Q: If a pie has 8 slices and you eat 3, how many are left?\n",
        "A: 8 − 3 = 5. The answer is 5.\n",
        "Q: John has 4 apples. His friend gives him 3 more. How many apples total?\n",
        "A: 4 + 3 = 7. The answer is 7.\"\"\"\n",
        "\n",
        "#  Few-Shot No-CoT Prompt\n",
        "few_shot_nocot = \"\"\"Q: If there are 2 pens and each costs $3, how much in total?\n",
        "A: 6\n",
        "Q: Alice is older than Bob. Bob is older than Charlie. Who is the youngest?\n",
        "A: Charlie\n",
        "Q: A train travels 60 km/h for 3 hours. How far does it go?\n",
        "A: 180\n",
        "Q: A box has 4 red balls and 5 green balls. How many total balls are there?\n",
        "A: 9\n",
        "Q: Sarah has 7 candies. She eats 2. How many are left?\n",
        "A: 5\n",
        "Q: A chair costs $15. You buy 2. How much do you spend?\n",
        "A: 30\n",
        "Q: Mike is taller than Tom. Tom is taller than Jim. Who is the shortest?\n",
        "A: Jim\n",
        "Q: There are 3 rows of desks. Each row has 5 desks. How many desks total?\n",
        "A: 15\n",
        "Q: If a pie has 8 slices and you eat 3, how many are left?\n",
        "A: 5\n",
        "Q: John has 4 apples. His friend gives him 3 more. How many apples total?\n",
        "A: 7\"\"\"\n",
        "\n",
        "#  Inference + Evaluation\n",
        "results = []\n",
        "\n",
        "def extract_final_answer(text):\n",
        "    text = text.replace(\",\", \"\")\n",
        "    matches = re.findall(r\"\\b([A-Z][a-z]+|\\d+(?:\\.\\d+)?)\\b\", text)\n",
        "    return matches[-1] if matches else text.strip()\n",
        "\n",
        "for i, q in enumerate(questions):\n",
        "    gt = ground_truth[i].strip().lower()\n",
        "\n",
        "    # Few-shot CoT\n",
        "    prompt_cot = few_shot_cot + f\"\\nQ: {q}\\nA:\"\n",
        "    cot_out = pipe(prompt_cot)[0][\"generated_text\"].split(\"A:\")[-1].strip()\n",
        "    cot_ans = extract_final_answer(cot_out).lower()\n",
        "\n",
        "    # Zero-shot CoT\n",
        "    prompt_zscot = f\"Q: {q} Let's think step by step.\\nA:\"\n",
        "    zscot_out = pipe(prompt_zscot)[0][\"generated_text\"].split(\"A:\")[-1].strip()\n",
        "    zscot_ans = extract_final_answer(zscot_out).lower()\n",
        "\n",
        "    # Few-shot No-CoT\n",
        "    prompt_nocot = few_shot_nocot + f\"\\nQ: {q}\\nA:\"\n",
        "    nocot_out = pipe(prompt_nocot)[0][\"generated_text\"].split(\"A:\")[-1].strip()\n",
        "    nocot_ans = extract_final_answer(nocot_out).lower()\n",
        "\n",
        "    results.append({\n",
        "        \"Question\": q,\n",
        "        \"Ground Truth\": ground_truth[i],\n",
        "        \"Few-shot CoT\": cot_out,\n",
        "        \"Zero-shot CoT\": zscot_out,\n",
        "        \"Few-shot No-CoT\": nocot_out,\n",
        "        \"Correct CoT\": cot_ans == gt,\n",
        "        \"Correct ZS-CoT\": zscot_ans == gt,\n",
        "        \"Correct No-CoT\": nocot_ans == gt\n",
        "    })\n",
        "\n",
        "#  Show Table\n",
        "df = pd.DataFrame(results)\n",
        "pd.set_option('display.max_colwidth', None)\n",
        "display(df)\n",
        "\n",
        "#  Summary Accuracy\n",
        "print(\"\\n Accuracy Summary:\")\n",
        "print(f\"Few-shot CoT       : {df['Correct CoT'].sum()}/10\")\n",
        "print(f\"Zero-shot CoT      : {df['Correct ZS-CoT'].sum()}/10\")\n",
        "print(f\"Few-shot No-CoT    : {df['Correct No-CoT'].sum()}/10\")\n"
      ],
      "metadata": {
        "id": "aTvStaYYqT_H"
      },
      "execution_count": null,
      "outputs": []
    },
    {
      "cell_type": "code",
      "source": [],
      "metadata": {
        "id": "Td0aGQAkqT8W"
      },
      "execution_count": null,
      "outputs": []
    },
    {
      "cell_type": "code",
      "source": [],
      "metadata": {
        "id": "shj5CNWHqT5p"
      },
      "execution_count": null,
      "outputs": []
    },
    {
      "cell_type": "code",
      "source": [],
      "metadata": {
        "id": "X_Z9irFkqT29"
      },
      "execution_count": null,
      "outputs": []
    },
    {
      "cell_type": "code",
      "source": [],
      "metadata": {
        "id": "vljtsY_Hnsqe"
      },
      "execution_count": null,
      "outputs": []
    }
  ]
}